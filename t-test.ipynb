{
 "cells": [
  {
   "cell_type": "code",
   "execution_count": 1,
   "id": "9f60d650",
   "metadata": {},
   "outputs": [],
   "source": [
    "import scipy.stats as stats"
   ]
  },
  {
   "cell_type": "code",
   "execution_count": 2,
   "id": "28a0f91a",
   "metadata": {},
   "outputs": [],
   "source": [
    "group1 = [23, 20, 25, 27, 30, 22, 24, 21]\n",
    "group2 = [27, 29, 24, 26, 28, 30, 32, 31]"
   ]
  },
  {
   "cell_type": "code",
   "execution_count": 3,
   "id": "5cff5bb3",
   "metadata": {},
   "outputs": [],
   "source": [
    "# Perform the two-sample T-test\n",
    "t_statistics, p_value = stats.ttest_ind(group1, group2)"
   ]
  },
  {
   "cell_type": "code",
   "execution_count": 6,
   "id": "c88076fd",
   "metadata": {},
   "outputs": [
    {
     "name": "stdout",
     "output_type": "stream",
     "text": [
      "T-statistics: -2.92, P-value: 0.01\n"
     ]
    }
   ],
   "source": [
    "print(f'T-statistics: {t_statistics:.2f}, P-value: {p_value:.2f}')"
   ]
  },
  {
   "cell_type": "code",
   "execution_count": null,
   "id": "5ab3a1ab",
   "metadata": {},
   "outputs": [],
   "source": []
  }
 ],
 "metadata": {
  "kernelspec": {
   "display_name": "Python 3 (ipykernel)",
   "language": "python",
   "name": "python3"
  },
  "language_info": {
   "codemirror_mode": {
    "name": "ipython",
    "version": 3
   },
   "file_extension": ".py",
   "mimetype": "text/x-python",
   "name": "python",
   "nbconvert_exporter": "python",
   "pygments_lexer": "ipython3",
   "version": "3.11.4"
  }
 },
 "nbformat": 4,
 "nbformat_minor": 5
}
